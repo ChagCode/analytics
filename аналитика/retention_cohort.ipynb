{
 "cells": [
  {
   "cell_type": "code",
   "execution_count": 1,
   "id": "24bc9006",
   "metadata": {},
   "outputs": [],
   "source": [
    "import pandas as pd\n",
    "import numpy as np\n",
    "import datetime"
   ]
  },
  {
   "cell_type": "markdown",
   "id": "b5b6e46e",
   "metadata": {},
   "source": [
    "Функция для расчета retention "
   ]
  },
  {
   "cell_type": "code",
   "execution_count": 2,
   "id": "c8fcaa01",
   "metadata": {},
   "outputs": [],
   "source": [
    "auth_data = pd.read_csv('C:/Users/user/Python/karpov.courses/projects/project_1/problem1-auth_data.csv', sep = ';')\n",
    "reg_data = pd.read_csv('C:/Users/user/Python/karpov.courses/projects/project_1/problem1-reg_data.csv', sep = ';')"
   ]
  },
  {
   "cell_type": "code",
   "execution_count": 3,
   "id": "f6e41ed7",
   "metadata": {},
   "outputs": [],
   "source": [
    "auth_data['date'] = pd.to_datetime([datetime.fromtimestamp(x).strftime('%Y-%m-%d') for x in auth_data.auth_ts])"
   ]
  },
  {
   "cell_type": "code",
   "execution_count": 4,
   "id": "143a58fd",
   "metadata": {},
   "outputs": [],
   "source": [
    "reg_data['birthday'] = pd.to_datetime([datetime.fromtimestamp(x).strftime('%Y-%m-%d') for x in reg_data.reg_ts])"
   ]
  },
  {
   "cell_type": "code",
   "execution_count": 5,
   "id": "59fdba40",
   "metadata": {},
   "outputs": [],
   "source": [
    "data = auth_data.merge(reg_data, how = 'left', on = 'uid')"
   ]
  },
  {
   "cell_type": "code",
   "execution_count": 6,
   "id": "6c174cbd",
   "metadata": {},
   "outputs": [],
   "source": [
    "data['days_distance'] = (data['date'] - data['birthday']).dt.days + 1"
   ]
  },
  {
   "cell_type": "code",
   "execution_count": 9,
   "id": "3ee87642",
   "metadata": {},
   "outputs": [],
   "source": [
    "def cool_cohort(df):\n",
    "    \n",
    "    choose_date = input(\"Введите дату начала в формате (ГГГГ-ММ-ДД) 2020-01-31: \")\n",
    "    numb_date = int(input(\"Введите на какой день нужно посчитать retention: \"))\n",
    "    \n",
    "    def retantion_rate(df, choose_date, numb_date):\n",
    "        \n",
    "        choose_date = datetime.datetime.strptime(choose_date, '%Y-%m-%d').date()\n",
    "        \n",
    "        cohort = df.query(\"birthday == @choose_date and days_distance <= @numb_date\") \\\n",
    "                .groupby(['birthday', 'days_distance'], as_index = False) \\\n",
    "                .agg({'uid': 'nunique'}) \\\n",
    "                .sort_values(['birthday', 'days_distance'], ascending = True)\n",
    "        \n",
    "        rr = round((float(cohort.query(\"days_distance == @numb_date\").uid) / \n",
    "              float(cohort.query(\"days_distance == 1\").uid)) * 100, 3)\n",
    "        \n",
    "        return print(f\"Retention игроков = {rr} %\")\n",
    "    \n",
    "    retantion_rate(df, choose_date, numb_date)"
   ]
  }
 ],
 "metadata": {
  "kernelspec": {
   "display_name": "Python 3 (ipykernel)",
   "language": "python",
   "name": "python3"
  },
  "language_info": {
   "codemirror_mode": {
    "name": "ipython",
    "version": 3
   },
   "file_extension": ".py",
   "mimetype": "text/x-python",
   "name": "python",
   "nbconvert_exporter": "python",
   "pygments_lexer": "ipython3",
   "version": "3.9.12"
  }
 },
 "nbformat": 4,
 "nbformat_minor": 5
}
